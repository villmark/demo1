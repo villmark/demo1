{
    "cells": [
        {
            "metadata": {},
            "cell_type": "code",
            "source": "\nimport types\nimport pandas as pd\nfrom botocore.client import Config\nimport ibm_boto3\n\ndef __iter__(self): return 0\n\n# @hidden_cell\n# The following code accesses a file in your IBM Cloud Object Storage. It includes your credentials.\n# You might want to remove those credentials before you share the notebook.\nclient_015b0948fba34ac0b049f5f86605af97 = ibm_boto3.client(service_name='s3',\n    ibm_api_key_id='8D9R7V73_Ilezx6fHPbxAjSfPQZvXzT3H1O3Lf8Jyj3F',\n    ibm_auth_endpoint=\"https://iam.cloud.ibm.com/oidc/token\",\n    config=Config(signature_version='oauth'),\n    endpoint_url='https://s3.eu-geo.objectstorage.service.networklayer.com')\n\nbody = client_015b0948fba34ac0b049f5f86605af97.get_object(Bucket='testproject-donotdelete-pr-8otqlpc87gfucz',Key='Test Excel File.xlsx')['Body']\n# add missing __iter__ method, so pandas accepts body as file-like object\nif not hasattr(body, \"__iter__\"): body.__iter__ = types.MethodType( __iter__, body )\n\ndf_data_0 = pd.read_excel(body)\ndf_data_0.head()\n",
            "execution_count": 1,
            "outputs": [
                {
                    "output_type": "execute_result",
                    "execution_count": 1,
                    "data": {
                        "text/plain": "   Unnamed: 0         Unnamed: 1           Unnamed: 2 Unnamed: 3  \\\n0         NaN                NaN                   zo        NaN   \n1         NaN                NaN  2020-06-21 00:00:00        NaN   \n2         NaN               Task                  Who       Done   \n3         NaN  Pick Up Toys/Misc                Terry          1   \n4         NaN           Get Mail                David          1   \n\n            Unnamed: 4 Unnamed: 5           Unnamed: 6 Unnamed: 7  \\\n0                   ma        NaN                   di        NaN   \n1  2020-06-22 00:00:00        NaN  2020-06-23 00:00:00        NaN   \n2                  Who       Done                  Who       Done   \n3                  NaN        NaN                  NaN        NaN   \n4                  NaN        NaN                  NaN        NaN   \n\n            Unnamed: 8 Unnamed: 9          Unnamed: 10 Unnamed: 11  \\\n0                   wo        NaN                   do         NaN   \n1  2020-06-24 00:00:00        NaN  2020-06-25 00:00:00         NaN   \n2                  Who       Done                  Who        Done   \n3                  NaN        NaN                  NaN         NaN   \n4                  NaN        NaN                  NaN         NaN   \n\n           Unnamed: 12 Unnamed: 13          Unnamed: 14 Unnamed: 15      \n0                   vr         NaN                   za         NaN NaN  \n1  2020-06-26 00:00:00         NaN  2020-06-27 00:00:00         NaN NaN  \n2                  Who        Done                  Who        Done NaN  \n3                  NaN         NaN                  NaN         NaN NaN  \n4                  NaN         NaN                  NaN         NaN NaN  ",
                        "text/html": "<div>\n<style scoped>\n    .dataframe tbody tr th:only-of-type {\n        vertical-align: middle;\n    }\n\n    .dataframe tbody tr th {\n        vertical-align: top;\n    }\n\n    .dataframe thead th {\n        text-align: right;\n    }\n</style>\n<table border=\"1\" class=\"dataframe\">\n  <thead>\n    <tr style=\"text-align: right;\">\n      <th></th>\n      <th>Unnamed: 0</th>\n      <th>Unnamed: 1</th>\n      <th>Unnamed: 2</th>\n      <th>Unnamed: 3</th>\n      <th>Unnamed: 4</th>\n      <th>Unnamed: 5</th>\n      <th>Unnamed: 6</th>\n      <th>Unnamed: 7</th>\n      <th>Unnamed: 8</th>\n      <th>Unnamed: 9</th>\n      <th>Unnamed: 10</th>\n      <th>Unnamed: 11</th>\n      <th>Unnamed: 12</th>\n      <th>Unnamed: 13</th>\n      <th>Unnamed: 14</th>\n      <th>Unnamed: 15</th>\n      <th></th>\n    </tr>\n  </thead>\n  <tbody>\n    <tr>\n      <th>0</th>\n      <td>NaN</td>\n      <td>NaN</td>\n      <td>zo</td>\n      <td>NaN</td>\n      <td>ma</td>\n      <td>NaN</td>\n      <td>di</td>\n      <td>NaN</td>\n      <td>wo</td>\n      <td>NaN</td>\n      <td>do</td>\n      <td>NaN</td>\n      <td>vr</td>\n      <td>NaN</td>\n      <td>za</td>\n      <td>NaN</td>\n      <td>NaN</td>\n    </tr>\n    <tr>\n      <th>1</th>\n      <td>NaN</td>\n      <td>NaN</td>\n      <td>2020-06-21 00:00:00</td>\n      <td>NaN</td>\n      <td>2020-06-22 00:00:00</td>\n      <td>NaN</td>\n      <td>2020-06-23 00:00:00</td>\n      <td>NaN</td>\n      <td>2020-06-24 00:00:00</td>\n      <td>NaN</td>\n      <td>2020-06-25 00:00:00</td>\n      <td>NaN</td>\n      <td>2020-06-26 00:00:00</td>\n      <td>NaN</td>\n      <td>2020-06-27 00:00:00</td>\n      <td>NaN</td>\n      <td>NaN</td>\n    </tr>\n    <tr>\n      <th>2</th>\n      <td>NaN</td>\n      <td>Task</td>\n      <td>Who</td>\n      <td>Done</td>\n      <td>Who</td>\n      <td>Done</td>\n      <td>Who</td>\n      <td>Done</td>\n      <td>Who</td>\n      <td>Done</td>\n      <td>Who</td>\n      <td>Done</td>\n      <td>Who</td>\n      <td>Done</td>\n      <td>Who</td>\n      <td>Done</td>\n      <td>NaN</td>\n    </tr>\n    <tr>\n      <th>3</th>\n      <td>NaN</td>\n      <td>Pick Up Toys/Misc</td>\n      <td>Terry</td>\n      <td>1</td>\n      <td>NaN</td>\n      <td>NaN</td>\n      <td>NaN</td>\n      <td>NaN</td>\n      <td>NaN</td>\n      <td>NaN</td>\n      <td>NaN</td>\n      <td>NaN</td>\n      <td>NaN</td>\n      <td>NaN</td>\n      <td>NaN</td>\n      <td>NaN</td>\n      <td>NaN</td>\n    </tr>\n    <tr>\n      <th>4</th>\n      <td>NaN</td>\n      <td>Get Mail</td>\n      <td>David</td>\n      <td>1</td>\n      <td>NaN</td>\n      <td>NaN</td>\n      <td>NaN</td>\n      <td>NaN</td>\n      <td>NaN</td>\n      <td>NaN</td>\n      <td>NaN</td>\n      <td>NaN</td>\n      <td>NaN</td>\n      <td>NaN</td>\n      <td>NaN</td>\n      <td>NaN</td>\n      <td>NaN</td>\n    </tr>\n  </tbody>\n</table>\n</div>"
                    },
                    "metadata": {}
                }
            ]
        },
        {
            "metadata": {},
            "cell_type": "code",
            "source": "",
            "execution_count": null,
            "outputs": []
        },
        {
            "metadata": {},
            "cell_type": "code",
            "source": "",
            "execution_count": null,
            "outputs": []
        },
        {
            "metadata": {
                "collapsed": true
            },
            "cell_type": "code",
            "source": "",
            "execution_count": null,
            "outputs": []
        }
    ],
    "metadata": {
        "kernelspec": {
            "name": "python3",
            "display_name": "Python 3.6",
            "language": "python"
        },
        "language_info": {
            "name": "python",
            "version": "3.6.9",
            "mimetype": "text/x-python",
            "codemirror_mode": {
                "name": "ipython",
                "version": 3
            },
            "pygments_lexer": "ipython3",
            "nbconvert_exporter": "python",
            "file_extension": ".py"
        }
    },
    "nbformat": 4,
    "nbformat_minor": 1
}